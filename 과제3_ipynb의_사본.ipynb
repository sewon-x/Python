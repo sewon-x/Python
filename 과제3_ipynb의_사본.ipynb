{
  "nbformat": 4,
  "nbformat_minor": 0,
  "metadata": {
    "colab": {
      "name": "과제3.ipynb의 사본",
      "provenance": [],
      "authorship_tag": "ABX9TyNip9xQGXkwA95y2kiQTCaF",
      "include_colab_link": true
    },
    "kernelspec": {
      "name": "python3",
      "display_name": "Python 3"
    }
  },
  "cells": [
    {
      "cell_type": "markdown",
      "metadata": {
        "id": "view-in-github",
        "colab_type": "text"
      },
      "source": [
        "<a href=\"https://colab.research.google.com/github/sewon-x/Python/blob/master/%EA%B3%BC%EC%A0%9C3_ipynb%EC%9D%98_%EC%82%AC%EB%B3%B8.ipynb\" target=\"_parent\"><img src=\"https://colab.research.google.com/assets/colab-badge.svg\" alt=\"Open In Colab\"/></a>"
      ]
    },
    {
      "cell_type": "code",
      "metadata": {
        "id": "1jBu7gshZISU",
        "colab_type": "code",
        "colab": {}
      },
      "source": [
        "import tensorflow as tf\n",
        "from tensorflow.keras import datasets, layers, models"
      ],
      "execution_count": null,
      "outputs": []
    },
    {
      "cell_type": "code",
      "metadata": {
        "id": "FaVXaCgFZeVb",
        "colab_type": "code",
        "colab": {
          "base_uri": "https://localhost:8080/",
          "height": 53
        },
        "outputId": "36fcd7f5-646b-496f-d6a1-bf6519fe5f9d"
      },
      "source": [
        "(train_images,train_labels),(test_images, test_labels)= datasets.mnist.load_data()\n",
        "\n",
        "#print(train_images.shape)\n",
        "\n",
        "train_images=train_images.reshape((60000,28, 28, 1))\n",
        "test_images=test_images.reshape((10000,28, 28, 1))\n",
        "\n",
        "train_images, test_images=train_images/255.0, test_images/255.0"
      ],
      "execution_count": null,
      "outputs": [
        {
          "output_type": "stream",
          "text": [
            "Downloading data from https://storage.googleapis.com/tensorflow/tf-keras-datasets/mnist.npz\n",
            "11493376/11490434 [==============================] - 0s 0us/step\n"
          ],
          "name": "stdout"
        }
      ]
    },
    {
      "cell_type": "code",
      "metadata": {
        "id": "8WJvHob5aC1A",
        "colab_type": "code",
        "colab": {
          "base_uri": "https://localhost:8080/",
          "height": 449
        },
        "outputId": "10681a48-3fdb-461e-8686-0872853f62e2"
      },
      "source": [
        "model=models.Sequential()\n",
        "model.add(layers.Conv2D(32,(3,3),activation='relu',input_shape=(28,28,1)))\n",
        "model.add(layers.MaxPooling2D((2,2)))\n",
        "model.add(layers.Conv2D(64,(3,3),activation='relu'))\n",
        "model.add(layers.MaxPooling2D((2,2)))\n",
        "model.add(layers.Conv2D(64,(3,3),activation='relu'))\n",
        "\n",
        "model.add(layers.Flatten())\n",
        "model.add(layers.Dense(64,activation='relu'))\n",
        "model.add(layers.Dense(10,activation='softmax'))\n",
        "model.summary()\n",
        "                  \n"
      ],
      "execution_count": null,
      "outputs": [
        {
          "output_type": "stream",
          "text": [
            "Model: \"sequential\"\n",
            "_________________________________________________________________\n",
            "Layer (type)                 Output Shape              Param #   \n",
            "=================================================================\n",
            "conv2d (Conv2D)              (None, 26, 26, 32)        320       \n",
            "_________________________________________________________________\n",
            "max_pooling2d (MaxPooling2D) (None, 13, 13, 32)        0         \n",
            "_________________________________________________________________\n",
            "conv2d_1 (Conv2D)            (None, 11, 11, 64)        18496     \n",
            "_________________________________________________________________\n",
            "max_pooling2d_1 (MaxPooling2 (None, 5, 5, 64)          0         \n",
            "_________________________________________________________________\n",
            "conv2d_2 (Conv2D)            (None, 3, 3, 64)          36928     \n",
            "_________________________________________________________________\n",
            "flatten (Flatten)            (None, 576)               0         \n",
            "_________________________________________________________________\n",
            "dense (Dense)                (None, 64)                36928     \n",
            "_________________________________________________________________\n",
            "dense_1 (Dense)              (None, 10)                650       \n",
            "=================================================================\n",
            "Total params: 93,322\n",
            "Trainable params: 93,322\n",
            "Non-trainable params: 0\n",
            "_________________________________________________________________\n"
          ],
          "name": "stdout"
        }
      ]
    },
    {
      "cell_type": "code",
      "metadata": {
        "id": "4MPFeGlUa-Q0",
        "colab_type": "code",
        "colab": {
          "base_uri": "https://localhost:8080/",
          "height": 415
        },
        "outputId": "9e8009ed-bd21-447c-9a6f-277b1ae99181"
      },
      "source": [
        "model.compile(optimizer='adam',\n",
        "              loss='sparse_categorical_crossentropy',\n",
        "              metrics=['accuracy'])\n",
        "\n",
        "model.fit(train_images, train_labels, epochs=10, batch_size=10)"
      ],
      "execution_count": null,
      "outputs": [
        {
          "output_type": "stream",
          "text": [
            "Epoch 1/10\n",
            "6000/6000 [==============================] - 67s 11ms/step - loss: 0.0642 - accuracy: 0.9801\n",
            "Epoch 2/10\n",
            "6000/6000 [==============================] - 67s 11ms/step - loss: 0.0388 - accuracy: 0.9875\n",
            "Epoch 3/10\n",
            "6000/6000 [==============================] - 66s 11ms/step - loss: 0.0302 - accuracy: 0.9910\n",
            "Epoch 4/10\n",
            "6000/6000 [==============================] - 66s 11ms/step - loss: 0.0237 - accuracy: 0.9924\n",
            "Epoch 5/10\n",
            "6000/6000 [==============================] - 66s 11ms/step - loss: 0.0188 - accuracy: 0.9942\n",
            "Epoch 6/10\n",
            "6000/6000 [==============================] - 66s 11ms/step - loss: 0.0160 - accuracy: 0.9950\n",
            "Epoch 7/10\n",
            "6000/6000 [==============================] - 66s 11ms/step - loss: 0.0139 - accuracy: 0.9960\n",
            "Epoch 8/10\n",
            "6000/6000 [==============================] - 66s 11ms/step - loss: 0.0135 - accuracy: 0.9962\n",
            "Epoch 9/10\n",
            "6000/6000 [==============================] - 66s 11ms/step - loss: 0.0122 - accuracy: 0.9964\n",
            "Epoch 10/10\n",
            "6000/6000 [==============================] - 66s 11ms/step - loss: 0.0118 - accuracy: 0.9963\n"
          ],
          "name": "stdout"
        },
        {
          "output_type": "execute_result",
          "data": {
            "text/plain": [
              "<tensorflow.python.keras.callbacks.History at 0x7f5f5b3def28>"
            ]
          },
          "metadata": {
            "tags": []
          },
          "execution_count": 5
        }
      ]
    },
    {
      "cell_type": "code",
      "metadata": {
        "id": "zUCmb95tb0tH",
        "colab_type": "code",
        "colab": {
          "base_uri": "https://localhost:8080/",
          "height": 693
        },
        "outputId": "d85b7b30-886e-40e0-f269-70a77964d1ba"
      },
      "source": [
        "import matplotlib.pyplot as plt\n",
        "history=model.fit(train_images, train_labels, validation_split=0.25, epochs=10, batch_size=16, verbose=1)\n",
        "\n",
        "#학습 정확성 값과 검증 정확성 값을 플롯팅 합니다.\n",
        "print(history)\n",
        "\n",
        "plt.plot(history.history['accuracy'])\n",
        "plt.plot(history.history['val_accuracy'])\n",
        "plt.title('Model accuracy')\n",
        "plt.ylabel('Accuracy')\n",
        "plt.xlabel('Epoch')\n",
        "plt.legend(['Train','Test'],loc='upper left')\n",
        "plt.show()"
      ],
      "execution_count": null,
      "outputs": [
        {
          "output_type": "stream",
          "text": [
            "Epoch 1/10\n",
            "2813/2813 [==============================] - 50s 18ms/step - loss: 0.0059 - accuracy: 0.9983 - val_loss: 0.0057 - val_accuracy: 0.9981\n",
            "Epoch 2/10\n",
            "2813/2813 [==============================] - 50s 18ms/step - loss: 0.0060 - accuracy: 0.9981 - val_loss: 0.0043 - val_accuracy: 0.9989\n",
            "Epoch 3/10\n",
            "2813/2813 [==============================] - 50s 18ms/step - loss: 0.0054 - accuracy: 0.9983 - val_loss: 0.0157 - val_accuracy: 0.9961\n",
            "Epoch 4/10\n",
            "2813/2813 [==============================] - 51s 18ms/step - loss: 0.0075 - accuracy: 0.9978 - val_loss: 0.0109 - val_accuracy: 0.9967\n",
            "Epoch 5/10\n",
            "2813/2813 [==============================] - 50s 18ms/step - loss: 0.0058 - accuracy: 0.9984 - val_loss: 0.0200 - val_accuracy: 0.9953\n",
            "Epoch 6/10\n",
            "2813/2813 [==============================] - 51s 18ms/step - loss: 0.0062 - accuracy: 0.9984 - val_loss: 0.0150 - val_accuracy: 0.9968\n",
            "Epoch 7/10\n",
            "2813/2813 [==============================] - 52s 18ms/step - loss: 0.0051 - accuracy: 0.9986 - val_loss: 0.0133 - val_accuracy: 0.9969\n",
            "Epoch 8/10\n",
            "2813/2813 [==============================] - 50s 18ms/step - loss: 0.0038 - accuracy: 0.9990 - val_loss: 0.0183 - val_accuracy: 0.9964\n",
            "Epoch 9/10\n",
            "2813/2813 [==============================] - 51s 18ms/step - loss: 0.0062 - accuracy: 0.9984 - val_loss: 0.0217 - val_accuracy: 0.9956\n",
            "Epoch 10/10\n",
            "2813/2813 [==============================] - 51s 18ms/step - loss: 0.0058 - accuracy: 0.9984 - val_loss: 0.0198 - val_accuracy: 0.9957\n",
            "<tensorflow.python.keras.callbacks.History object at 0x7f5f5b3d5c50>\n"
          ],
          "name": "stdout"
        },
        {
          "output_type": "display_data",
          "data": {
            "image/png": "[encoded data removed]",
            "text/plain": [
              "<Figure size 432x288 with 1 Axes>"
            ]
          },
          "metadata": {
            "tags": [],
            "needs_background": "light"
          }
        }
      ]
    },
    {
      "cell_type": "code",
      "metadata": {
        "id": "bv6Ewvd5bdUg",
        "colab_type": "code",
        "colab": {}
      },
      "source": [
        "# 구글드라이브 마운트 코딩\n",
        "# from google.colab import drive\n",
        "# drive.mount('/content/drive')"
      ],
      "execution_count": null,
      "outputs": []
    },
    {
      "cell_type": "code",
      "metadata": {
        "id": "DSwZN3-nbiqi",
        "colab_type": "code",
        "colab": {
          "base_uri": "https://localhost:8080/",
          "height": 35
        },
        "outputId": "5f02e505-8946-4436-b710-854762b2995e"
      },
      "source": [
        "test_loss, test_acc=model.evaluate(test_images, test_labels, verbose=2)"
      ],
      "execution_count": null,
      "outputs": [
        {
          "output_type": "stream",
          "text": [
            "313/313 - 3s - loss: 0.0759 - accuracy: 0.9907\n"
          ],
          "name": "stdout"
        }
      ]
    }
  ]
}